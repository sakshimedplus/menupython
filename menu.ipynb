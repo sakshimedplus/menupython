{
 "cells": [
  {
   "cell_type": "code",
   "execution_count": null,
   "id": "5ccda1f2",
   "metadata": {},
   "outputs": [],
   "source": []
  },
  {
   "cell_type": "code",
   "execution_count": null,
   "id": "dc0d8cfa",
   "metadata": {},
   "outputs": [
    {
     "name": "stdout",
     "output_type": "stream",
     "text": [
      "__________________________________________________\n",
      "choose 1 for owner \n",
      " 2 costomer \n",
      " 3 to exit\n",
      "__________________________________________________\n",
      "1/21\n",
      "namegtrdstg\n",
      "price112\n",
      "index11\n",
      "discriptiondfhfd\n",
      "1 for starter \n",
      " 2 for chineese \n",
      " 3 italian  \n",
      " 4 for bread1\n",
      "2 for veg \n",
      " any other of non veg2\n",
      "item added\n",
      "__________________________________________________\n",
      "choose 1 for owner \n",
      " 2 costomer \n",
      " 3 to exit\n",
      "__________________________________________________\n",
      "1/22\n",
      "__________________________________________________\n",
      "11 gtrdstg:112\n",
      "\n",
      "dfhfd\n",
      "invalid choice\n",
      "__________________________________________________\n",
      "choose 1 for owner \n",
      " 2 costomer \n",
      " 3 to exit\n",
      "__________________________________________________\n"
     ]
    }
   ],
   "source": [
    "list=[]\n",
    "class items: \n",
    "    def __init__(self,name,price,index,discription,typ,veg):\n",
    "        self.name=name\n",
    "        self.price=price\n",
    "        self.index=index\n",
    "        self.discription=discription\n",
    "        self.typ=typ\n",
    "        self.veg=veg\n",
    "    def get_index(self):\n",
    "        return index\n",
    "    def get_price(self):\n",
    "        return price\n",
    "    def __str__(self):\n",
    "        a=str(self.index)+\" \"+self.name+\":\"+str(self.price)+\"\\n\" +\"\\n\"+self.discription\n",
    "        return a\n",
    "def add():\n",
    "    n=input('name')\n",
    "    p=int(input('price'))\n",
    "    i=int(input('index'))\n",
    "    d=input('discription')\n",
    "    t=int(input(\"1 for starter \\n 2 for chineese \\n 3 italian  \\n 4 for bread\"))\n",
    "    v=int(input('2 for veg \\n any other of non veg'))\n",
    "    if i in list:\n",
    "        print(\"invalid index\")\n",
    "    else:\n",
    "        a=items(n,p,i,d,t,v)\n",
    "        list.append(a)\n",
    "        print(\"item added\")\n",
    "    \n",
    "while True:\n",
    "    print(\"__________________________________________________\")\n",
    "    print(\"choose 1 for owner \\n 2 costomer \\n 3 to exit\")\n",
    "    print(\"__________________________________________________\")\n",
    "    i=int(input(\"1/2\"))\n",
    "    if i==1:\n",
    "        add()\n",
    "    elif i==2:\n",
    "        print(\"__________________________________________________\")\n",
    "        for k in list:\n",
    "            print(k)\n",
    "    elif i==3:\n",
    "              break"
   ]
  },
  {
   "cell_type": "code",
   "execution_count": null,
   "id": "6e05248b",
   "metadata": {},
   "outputs": [],
   "source": []
  },
  {
   "cell_type": "code",
   "execution_count": null,
   "id": "e5cac994",
   "metadata": {},
   "outputs": [],
   "source": []
  }
 ],
 "metadata": {
  "kernelspec": {
   "display_name": "Python 3 (ipykernel)",
   "language": "python",
   "name": "python3"
  },
  "language_info": {
   "codemirror_mode": {
    "name": "ipython",
    "version": 3
   },
   "file_extension": ".py",
   "mimetype": "text/x-python",
   "name": "python",
   "nbconvert_exporter": "python",
   "pygments_lexer": "ipython3",
   "version": "3.8.10"
  }
 },
 "nbformat": 4,
 "nbformat_minor": 5
}
